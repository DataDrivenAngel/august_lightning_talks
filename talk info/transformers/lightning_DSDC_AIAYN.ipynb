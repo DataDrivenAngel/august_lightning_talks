{
 "cells": [
  {
   "cell_type": "code",
   "execution_count": 27,
   "id": "7bd3b198",
   "metadata": {},
   "outputs": [],
   "source": [
    "import numpy as np"
   ]
  },
  {
   "cell_type": "markdown",
   "id": "1540b2d2",
   "metadata": {},
   "source": [
    "<img src=\"AIAYN_Draft_230426_85.png\" alt=\"Eq (1) of Attention is All You Need\" />"
   ]
  },
  {
   "cell_type": "code",
   "execution_count": 24,
   "id": "cecd2596",
   "metadata": {},
   "outputs": [
    {
     "data": {
      "text/plain": [
       "'attitude'"
      ]
     },
     "execution_count": 24,
     "metadata": {},
     "output_type": "execute_result"
    }
   ],
   "source": [
    "# set query, q, to \"attitude\"\n",
    "q = \"attitude\"\n",
    "q"
   ]
  },
  {
   "cell_type": "markdown",
   "id": "67f6cd20",
   "metadata": {},
   "source": [
    "<img src=\"AIAYN_Draft_230426_86.png\" alt=\"A simple python dict\" />"
   ]
  },
  {
   "cell_type": "code",
   "execution_count": 28,
   "id": "84e92097",
   "metadata": {},
   "outputs": [
    {
     "data": {
      "text/plain": [
       "{'cat': 'jinx',\n",
       " 'medicine': 'meh',\n",
       " 'taste': 'bitter',\n",
       " 'attitude': 'yes',\n",
       " 'disposition': 'fickle'}"
      ]
     },
     "execution_count": 28,
     "metadata": {},
     "output_type": "execute_result"
    }
   ],
   "source": [
    "# Make dict with keys and values\n",
    "KVdict = {\n",
    "    \"cat\" : \"jinx\",\n",
    "    \"medicine\" : \"meh\",\n",
    "    \"taste\" : \"bitter\",\n",
    "    \"attitude\" : \"yes\",\n",
    "    \"disposition\" : \"fickle\"}\n",
    "KVdict"
   ]
  },
  {
   "cell_type": "code",
   "execution_count": 29,
   "id": "62d37d3f",
   "metadata": {},
   "outputs": [
    {
     "data": {
      "text/plain": [
       "'yes'"
      ]
     },
     "execution_count": 29,
     "metadata": {},
     "output_type": "execute_result"
    }
   ],
   "source": [
    "# Standard Python dict q, K, V result\n",
    "KVdict[q]"
   ]
  },
  {
   "cell_type": "markdown",
   "id": "06f94757",
   "metadata": {},
   "source": [
    "<img src=\"AIAYN_Draft_230426_87.png\" alt=\"1-hot vector mappings of keys and queries\" />"
   ]
  },
  {
   "cell_type": "code",
   "execution_count": 26,
   "id": "e7ce718f",
   "metadata": {},
   "outputs": [
    {
     "data": {
      "text/plain": [
       "{'cat': (1, 0, 0, 0, 0, 0, 0, 0, 0, 0),\n",
       " 'medicine': (0, 1, 0, 0, 0, 0, 0, 0, 0, 0),\n",
       " 'taste': (0, 0, 1, 0, 0, 0, 0, 0, 0, 0),\n",
       " 'attitude': (0, 0, 0, 1, 0, 0, 0, 0, 0, 0),\n",
       " 'disposition': (0, 0, 0, 0, 1, 0, 0, 0, 0, 0),\n",
       " 'jinx': (0, 0, 0, 0, 0, 1, 0, 0, 0, 0),\n",
       " 'meh': (0, 0, 0, 0, 0, 0, 1, 0, 0, 0),\n",
       " 'bitter': (0, 0, 0, 0, 0, 0, 0, 1, 0, 0),\n",
       " 'yes': (0, 0, 0, 0, 0, 0, 0, 0, 1, 0),\n",
       " 'fickle': (0, 0, 0, 0, 0, 0, 0, 0, 0, 1)}"
      ]
     },
     "execution_count": 26,
     "metadata": {},
     "output_type": "execute_result"
    }
   ],
   "source": [
    "# Make dict of mappings of keys to 1-hot vectors (tuples)\n",
    "Vec1hmap = {\n",
    "    \"cat\" : (1,0,0,0,0,0,0,0,0,0),\n",
    "    \"medicine\" : (0,1,0,0,0,0,0,0,0,0),\n",
    "    \"taste\" : (0,0,1,0,0,0,0,0,0,0),\n",
    "    \"attitude\" : (0,0,0,1,0,0,0,0,0,0),\n",
    "    \"disposition\" : (0,0,0,0,1,0,0,0,0,0),\n",
    "    \"jinx\" : (0,0,0,0,0,1,0,0,0,0),\n",
    "    \"meh\" : (0,0,0,0,0,0,1,0,0,0),\n",
    "    \"bitter\" : (0,0,0,0,0,0,0,1,0,0),\n",
    "    \"yes\" : (0,0,0,0,0,0,0,0,1,0),\n",
    "    \"fickle\" : (0,0,0,0,0,0,0,0,0,1)}\n",
    "Vec1hmap"
   ]
  },
  {
   "cell_type": "code",
   "execution_count": 32,
   "id": "b8e11212",
   "metadata": {},
   "outputs": [
    {
     "data": {
      "text/plain": [
       "{'cat': (1, 0, 0, 0, 0, 0, 0, 0, 0, 0),\n",
       " 'medicine': (0, 1, 0, 0, 0, 0, 0, 0, 0, 0),\n",
       " 'taste': (0, 0, 1, 0, 0, 0, 0, 0, 0, 0),\n",
       " 'attitude': (0, 0, 0, 1, 0, 0, 0, 0, 0, 0),\n",
       " 'disposition': (0, 0, 0, 0, 1, 0, 0, 0, 0, 0)}"
      ]
     },
     "execution_count": 32,
     "metadata": {},
     "output_type": "execute_result"
    }
   ],
   "source": [
    "K1map = {\"cat\"         : Vec1hmap[\"cat\"],\n",
    "         \"medicine\"    : Vec1hmap[\"medicine\"],\n",
    "         \"taste\"       : Vec1hmap[\"taste\"],\n",
    "         \"attitude\"    : Vec1hmap[\"attitude\"],\n",
    "         \"disposition\" : Vec1hmap[\"disposition\"],\n",
    "        }\n",
    "K1map"
   ]
  },
  {
   "cell_type": "code",
   "execution_count": 34,
   "id": "6e8eee34",
   "metadata": {},
   "outputs": [
    {
     "data": {
      "text/plain": [
       "{(0, 0, 0, 0, 0, 1, 0, 0, 0, 0): 'jinx',\n",
       " (0, 0, 0, 0, 0, 0, 1, 0, 0, 0): 'meh',\n",
       " (0, 0, 0, 0, 0, 0, 0, 1, 0, 0): 'bitter',\n",
       " (0, 0, 0, 0, 0, 0, 0, 0, 1, 0): 'yes',\n",
       " (0, 0, 0, 0, 0, 0, 0, 0, 0, 1): 'fickle'}"
      ]
     },
     "execution_count": 34,
     "metadata": {},
     "output_type": "execute_result"
    }
   ],
   "source": [
    "V1map = {Vec1hmap[\"jinx\"]  : \"jinx\",\n",
    "         Vec1hmap[\"meh\"]   : \"meh\",\n",
    "         Vec1hmap[\"bitter\"]: \"bitter\",\n",
    "         Vec1hmap[\"yes\"]   : \"yes\",\n",
    "         Vec1hmap[\"fickle\"]: \"fickle\",\n",
    "        }\n",
    "V1map"
   ]
  },
  {
   "cell_type": "code",
   "execution_count": 5,
   "id": "78017114",
   "metadata": {},
   "outputs": [
    {
     "data": {
      "text/plain": [
       "{(1, 0, 0, 0, 0, 0, 0, 0, 0, 0): 'cat',\n",
       " (0, 1, 0, 0, 0, 0, 0, 0, 0, 0): 'medicine',\n",
       " (0, 0, 1, 0, 0, 0, 0, 0, 0, 0): 'taste',\n",
       " (0, 0, 0, 1, 0, 0, 0, 0, 0, 0): 'attitude',\n",
       " (0, 0, 0, 0, 1, 0, 0, 0, 0, 0): 'disposition',\n",
       " (0, 0, 0, 0, 0, 1, 0, 0, 0, 0): 'jinx',\n",
       " (0, 0, 0, 0, 0, 0, 1, 0, 0, 0): 'meh',\n",
       " (0, 0, 0, 0, 0, 0, 0, 1, 0, 0): 'bitter',\n",
       " (0, 0, 0, 0, 0, 0, 0, 0, 1, 0): 'yes',\n",
       " (0, 0, 0, 0, 0, 0, 0, 0, 0, 1): 'fickle'}"
      ]
     },
     "execution_count": 5,
     "metadata": {},
     "output_type": "execute_result"
    }
   ],
   "source": [
    "# Make dict of vector (immutable tuple for hashing) mappings of \n",
    "# 1-hots to tokens\n",
    "Vec2token = {\n",
    "    (1,0,0,0,0,0,0,0,0,0) : \"cat\",\n",
    "    (0,1,0,0,0,0,0,0,0,0) : \"medicine\",\n",
    "    (0,0,1,0,0,0,0,0,0,0) : \"taste\",\n",
    "    (0,0,0,1,0,0,0,0,0,0) : \"attitude\",\n",
    "    (0,0,0,0,1,0,0,0,0,0) : \"disposition\",\n",
    "    (0,0,0,0,0,1,0,0,0,0) : \"jinx\",\n",
    "    (0,0,0,0,0,0,1,0,0,0) : \"meh\",\n",
    "    (0,0,0,0,0,0,0,1,0,0) : \"bitter\",\n",
    "    (0,0,0,0,0,0,0,0,1,0) : \"yes\",\n",
    "    (0,0,0,0,0,0,0,0,0,1) : \"fickle\"}\n",
    "Vec2token"
   ]
  },
  {
   "cell_type": "markdown",
   "id": "abea3f48",
   "metadata": {},
   "source": [
    "<img src=\"AIAYN_Draft_230426_88.png\" alt=\"1-hot vector mappings of keys and queries\" />"
   ]
  },
  {
   "cell_type": "code",
   "execution_count": 6,
   "id": "feb17e1c",
   "metadata": {},
   "outputs": [
    {
     "data": {
      "text/plain": [
       "(0, 0, 0, 1, 0, 0, 0, 0, 0, 0)"
      ]
     },
     "execution_count": 6,
     "metadata": {},
     "output_type": "execute_result"
    }
   ],
   "source": [
    "# Get 1-hot query mapping from query, q; q1h is a 1-hot vector (tuple)\n",
    "q1h = Vec1hmap[q]\n",
    "q1h"
   ]
  },
  {
   "cell_type": "code",
   "execution_count": 36,
   "id": "d560d0f0",
   "metadata": {},
   "outputs": [
    {
     "data": {
      "text/plain": [
       "{(1, 0, 0, 0, 0, 0, 0, 0, 0, 0): 'jinx',\n",
       " (0, 1, 0, 0, 0, 0, 0, 0, 0, 0): 'meh',\n",
       " (0, 0, 1, 0, 0, 0, 0, 0, 0, 0): 'bitter',\n",
       " (0, 0, 0, 1, 0, 0, 0, 0, 0, 0): 'yes',\n",
       " (0, 0, 0, 0, 1, 0, 0, 0, 0, 0): 'fickle'}"
      ]
     },
     "execution_count": 36,
     "metadata": {},
     "output_type": "execute_result"
    }
   ],
   "source": [
    "# Make dict with 1-hot vector mapped versions of keys\n",
    "K1Vdict = {\n",
    "    K1map[\"cat\"] : \"jinx\",\n",
    "    K1map[\"medicine\"] : \"meh\",\n",
    "    K1map[\"taste\"] : \"bitter\",\n",
    "    K1map[\"attitude\"] : \"yes\",\n",
    "    K1map[\"disposition\"] : \"fickle\"}\n",
    "K1Vdict"
   ]
  },
  {
   "cell_type": "code",
   "execution_count": 37,
   "id": "8f4657f7",
   "metadata": {},
   "outputs": [
    {
     "data": {
      "text/plain": [
       "'yes'"
      ]
     },
     "execution_count": 37,
     "metadata": {},
     "output_type": "execute_result"
    }
   ],
   "source": [
    "# Standard Python dict q, K, V result where q1h and K1h are 1-hot \n",
    "# mappings of q and K \n",
    "K1Vdict[q1h]"
   ]
  },
  {
   "cell_type": "markdown",
   "id": "8e7eed04",
   "metadata": {},
   "source": [
    "<img src=\"AIAYN_Draft_230426_89.png\" alt=\"Finding the value where the dot product between query and key is maximal\" />"
   ]
  },
  {
   "cell_type": "code",
   "execution_count": 38,
   "id": "f825a679",
   "metadata": {},
   "outputs": [
    {
     "data": {
      "text/plain": [
       "'yes'"
      ]
     },
     "execution_count": 38,
     "metadata": {},
     "output_type": "execute_result"
    }
   ],
   "source": [
    "# Find key where dot product of q1h and K1h is maximal and return the\n",
    "# value at that key\n",
    "K1h = list(K1Vdict.keys())\n",
    "# Given K1Vdict 1-hot representations of keys, select v1h with max dot\n",
    "# product of q1h with K1h\n",
    "K1Vdict[K1h[np.argmax(np.dot(q1h, np.array(K1h).transpose()))]]"
   ]
  },
  {
   "cell_type": "markdown",
   "id": "78462f2f",
   "metadata": {},
   "source": [
    "<img src=\"AIAYN_Draft_230426_90.png\" alt=\"Mapping both keys and values to 1-hots\" />"
   ]
  },
  {
   "cell_type": "code",
   "execution_count": 39,
   "id": "3424b77e",
   "metadata": {},
   "outputs": [
    {
     "data": {
      "text/plain": [
       "{(1, 0, 0, 0, 0, 0, 0, 0, 0, 0): (0, 0, 0, 0, 0, 1, 0, 0, 0, 0),\n",
       " (0, 1, 0, 0, 0, 0, 0, 0, 0, 0): (0, 0, 0, 0, 0, 0, 1, 0, 0, 0),\n",
       " (0, 0, 1, 0, 0, 0, 0, 0, 0, 0): (0, 0, 0, 0, 0, 0, 0, 1, 0, 0),\n",
       " (0, 0, 0, 1, 0, 0, 0, 0, 0, 0): (0, 0, 0, 0, 0, 0, 0, 0, 1, 0),\n",
       " (0, 0, 0, 0, 1, 0, 0, 0, 0, 0): (0, 0, 0, 0, 0, 0, 0, 0, 0, 1)}"
      ]
     },
     "execution_count": 39,
     "metadata": {},
     "output_type": "execute_result"
    }
   ],
   "source": [
    "# Make dict with 1-hot vector mapped versions of keys and values\n",
    "K1V1dict = {\n",
    "    K1map[\"cat\"] : Vec1hmap[\"jinx\"],\n",
    "    K1map[\"medicine\"] : Vec1hmap[\"meh\"],\n",
    "    K1map[\"taste\"] : Vec1hmap[\"bitter\"],\n",
    "    K1map[\"attitude\"] : Vec1hmap[\"yes\"],\n",
    "    K1map[\"disposition\"] : Vec1hmap[\"fickle\"]}\n",
    "K1V1dict"
   ]
  },
  {
   "cell_type": "markdown",
   "id": "4b47008e",
   "metadata": {},
   "source": [
    "<img src=\"AIAYN_Draft_230426_91.png\" alt=\"Weighted dot products of query vector with values vectors\" />"
   ]
  },
  {
   "cell_type": "code",
   "execution_count": 43,
   "id": "553723ff",
   "metadata": {},
   "outputs": [
    {
     "data": {
      "text/plain": [
       "array([[1, 0, 0, 0, 0, 0, 0, 0, 0, 0],\n",
       "       [0, 1, 0, 0, 0, 0, 0, 0, 0, 0],\n",
       "       [0, 0, 1, 0, 0, 0, 0, 0, 0, 0],\n",
       "       [0, 0, 0, 1, 0, 0, 0, 0, 0, 0],\n",
       "       [0, 0, 0, 0, 1, 0, 0, 0, 0, 0]])"
      ]
     },
     "execution_count": 43,
     "metadata": {},
     "output_type": "execute_result"
    }
   ],
   "source": [
    "# Extract matrix, K (1-hots)\n",
    "K = np.array(list(K1V1dict.keys()))\n",
    "K"
   ]
  },
  {
   "cell_type": "code",
   "execution_count": 44,
   "id": "7d200be5",
   "metadata": {},
   "outputs": [
    {
     "data": {
      "text/plain": [
       "array([[0, 0, 0, 0, 0, 1, 0, 0, 0, 0],\n",
       "       [0, 0, 0, 0, 0, 0, 1, 0, 0, 0],\n",
       "       [0, 0, 0, 0, 0, 0, 0, 1, 0, 0],\n",
       "       [0, 0, 0, 0, 0, 0, 0, 0, 1, 0],\n",
       "       [0, 0, 0, 0, 0, 0, 0, 0, 0, 1]])"
      ]
     },
     "execution_count": 44,
     "metadata": {},
     "output_type": "execute_result"
    }
   ],
   "source": [
    "# Extract matrix, V (1-hots)\n",
    "V = np.array(list(K1V1dict.values()))\n",
    "V"
   ]
  },
  {
   "cell_type": "code",
   "execution_count": 45,
   "id": "0aaf0a58",
   "metadata": {},
   "outputs": [
    {
     "data": {
      "text/plain": [
       "'yes'"
      ]
     },
     "execution_count": 45,
     "metadata": {},
     "output_type": "execute_result"
    }
   ],
   "source": [
    "# Given K1V1dict 1-hot representations of keys and values, weight \n",
    "# V by dot product of q1h with K; map 1-hot value back to \n",
    "# token value via Vec2token lookup\n",
    "Vec2token[tuple(np.matmul(np.dot(q1h, K.transpose()),V))]"
   ]
  },
  {
   "cell_type": "markdown",
   "id": "44fc3ee2",
   "metadata": {},
   "source": [
    "<img src=\"AIAYN_Draft_230426_92.png\" alt=\"Scaled weighted dot products of query vector with and values matrix\" />"
   ]
  },
  {
   "cell_type": "code",
   "execution_count": 48,
   "id": "8b71da65",
   "metadata": {},
   "outputs": [
    {
     "data": {
      "text/plain": [
       "1.0"
      ]
     },
     "execution_count": 48,
     "metadata": {},
     "output_type": "execute_result"
    }
   ],
   "source": [
    "# Normalizer, d_k, for no softmax and orthonormal vectors\n",
    "d_k = 1.0\n",
    "d_k"
   ]
  },
  {
   "cell_type": "code",
   "execution_count": 49,
   "id": "6383fe96",
   "metadata": {},
   "outputs": [
    {
     "data": {
      "text/plain": [
       "'yes'"
      ]
     },
     "execution_count": 49,
     "metadata": {},
     "output_type": "execute_result"
    }
   ],
   "source": [
    "# Given K1V1dict 1-hot representations of keys and values, \n",
    "# compute 1-hot encoding of value from AIAYN matrix version \n",
    "# of self-attention via matrix multiply; map 1-hot value back\n",
    "# to token value via Vec2token\n",
    "Vec2token[tuple(np.matmul(np.matmul(q1h, K.transpose())/np.sqrt(d_k),V))]"
   ]
  },
  {
   "cell_type": "markdown",
   "id": "9f4556af",
   "metadata": {},
   "source": [
    "<img src=\"AIAYN_Draft_230426_93.png\" alt=\"Scaled dot attention with query, keys and values matrices -- full equivalence to AIAYN\" />"
   ]
  },
  {
   "cell_type": "code",
   "execution_count": 50,
   "id": "45b4766a",
   "metadata": {},
   "outputs": [
    {
     "name": "stdout",
     "output_type": "stream",
     "text": [
      "Reminder: equivalent python dict:\n",
      "KVdict = \n",
      "{'cat': 'jinx', 'medicine': 'meh', 'taste': 'bitter', 'attitude': 'yes', 'disposition': 'fickle'}\n",
      "\n",
      "all queries : ['cat', 'medicine', 'taste', 'attitude', 'disposition']\n",
      "\n",
      "Q = \n",
      "[[1 0 0 0 0 0 0 0 0 0]\n",
      " [0 1 0 0 0 0 0 0 0 0]\n",
      " [0 0 1 0 0 0 0 0 0 0]\n",
      " [0 0 0 1 0 0 0 0 0 0]\n",
      " [0 0 0 0 1 0 0 0 0 0]]\n",
      "\n",
      "Attention(Q,K,V) = \n",
      "[[0.0 0.0 0.0 0.0 0.0 1.0 0.0 0.0 0.0 0.0]\n",
      " [0.0 0.0 0.0 0.0 0.0 0.0 1.0 0.0 0.0 0.0]\n",
      " [0.0 0.0 0.0 0.0 0.0 0.0 0.0 1.0 0.0 0.0]\n",
      " [0.0 0.0 0.0 0.0 0.0 0.0 0.0 0.0 1.0 0.0]\n",
      " [0.0 0.0 0.0 0.0 0.0 0.0 0.0 0.0 0.0 1.0]]\n",
      "\n"
     ]
    },
    {
     "data": {
      "text/plain": [
       "['jinx', 'meh', 'bitter', 'yes', 'fickle']"
      ]
     },
     "execution_count": 50,
     "metadata": {},
     "output_type": "execute_result"
    }
   ],
   "source": [
    "print(\"Reminder: equivalent python dict:\")\n",
    "print(\"KVdict = \")\n",
    "print(KVdict)\n",
    "\n",
    "all_queries = list(KVdict.keys())\n",
    "print()\n",
    "print(\"all queries : \" + str(all_queries))\n",
    "Q = np.array([Vec1hmap[k] for k in list(KVdict.keys())])\n",
    "print()\n",
    "print(\"Q = \")\n",
    "print(Q)\n",
    "\n",
    "# Given K1V1dict 1-hot representations of keys and values, \n",
    "# compute 1-hot encoding of value from AIAYN matrix version \n",
    "# of self-attention via matrix multiply; map 1-hot value back\n",
    "# to token value via Vec2token\n",
    "Att = np.matmul(np.matmul(Q, K.transpose())/np.sqrt(d_k),V)\n",
    "Att\n",
    "\n",
    "print()\n",
    "print(\"Attention(Q,K,V) = \")\n",
    "print(Att)\n",
    "\n",
    "print()\n",
    "[Vec2token[k] for k in list(map(tuple, Att))]"
   ]
  },
  {
   "cell_type": "markdown",
   "id": "b4f42003",
   "metadata": {},
   "source": [
    "<img src=\"AIAYN_Draft_230426_94.png\" alt=\"Full equivalence to AIAYN example Q.E.D.\" />"
   ]
  }
 ],
 "metadata": {
  "kernelspec": {
   "display_name": "Python 3",
   "language": "python",
   "name": "python3"
  },
  "language_info": {
   "codemirror_mode": {
    "name": "ipython",
    "version": 3
   },
   "file_extension": ".py",
   "mimetype": "text/x-python",
   "name": "python",
   "nbconvert_exporter": "python",
   "pygments_lexer": "ipython3",
   "version": "3.8.10"
  }
 },
 "nbformat": 4,
 "nbformat_minor": 5
}
